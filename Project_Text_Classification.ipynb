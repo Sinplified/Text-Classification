{
 "cells": [
  {
   "cell_type": "code",
   "execution_count": 1,
   "metadata": {},
   "outputs": [],
   "source": [
    "import os\n",
    "import re\n",
    "from nltk.corpus import stopwords\n",
    "import pandas as pd\n",
    "import numpy as np\n",
    "from sklearn import model_selection\n",
    "from math import log\n",
    "import matplotlib.pyplot as plt\n",
    "from sklearn.metrics import classification_report\n",
    "from sklearn.metrics import confusion_matrix\n",
    "from sklearn.naive_bayes import MultinomialNB"
   ]
  },
  {
   "cell_type": "code",
   "execution_count": 2,
   "metadata": {},
   "outputs": [
    {
     "name": "stdout",
     "output_type": "stream",
     "text": [
      "{'alt.atheism': 0, 'comp.graphics': 1, 'comp.os.ms-windows.misc': 2, 'comp.sys.ibm.pc.hardware': 3, 'comp.sys.mac.hardware': 4, 'comp.windows.x': 5, 'misc.forsale': 6, 'rec.autos': 7, 'rec.motorcycles': 8, 'rec.sport.baseball': 9, 'rec.sport.hockey': 10, 'sci.crypt': 11, 'sci.electronics': 12, 'sci.med': 13, 'sci.space': 14, 'soc.religion.christian': 15, 'talk.politics.guns': 16, 'talk.politics.mideast': 17, 'talk.politics.misc': 18, 'talk.religion.misc': 19}\n"
     ]
    }
   ],
   "source": [
    "# Assigning integer value to every class. \n",
    "classes = os.listdir('20_newsgroups/') # '20_newsgroups/' is the path for folder containing all thee files.\n",
    "classes_dict = {}\n",
    "for i in range(20):\n",
    "    classes_dict[classes[i]] = i\n",
    "print(classes_dict)"
   ]
  },
  {
   "cell_type": "code",
   "execution_count": 3,
   "metadata": {},
   "outputs": [],
   "source": [
    "def splitter(): #Splits the files for training and testing data\n",
    "    ng  = os.listdir('20_newsgroups/')\n",
    "    x_train = np.array([])\n",
    "    y_train = x_train\n",
    "    x_test = y_train\n",
    "    y_test = y_train\n",
    "    for gp in ng:\n",
    "        files = np.array(os.listdir('20_newsgroups/'+gp))\n",
    "        y = np.array([gp]*len(files))\n",
    "        x1,x2,y1,y2 = model_selection.train_test_split(files,y,random_state=1)\n",
    "        x_train = np.append(x_train,x1)\n",
    "        x_test = np.append(x_test,x2)\n",
    "        y_train = np.append(y_train,y1)\n",
    "        y_test = np.append(y_test,y2)\n",
    "    return x_train,x_test,y_train,y_test #We have randomly chosen 25% of files from every class/Newsgroups\n",
    "                                         #for testing data and 75% for training."
   ]
  },
  {
   "cell_type": "code",
   "execution_count": 4,
   "metadata": {},
   "outputs": [],
   "source": [
    "x_train,x_test,y_train,y_test = splitter() # x_train has names of files chosen for training and y_train has name of their \n",
    "# classes same goes for x_test and y_test."
   ]
  },
  {
   "cell_type": "code",
   "execution_count": 5,
   "metadata": {
    "scrolled": true
   },
   "outputs": [],
   "source": [
    "def cleanser(data):# Returns the passed string after removing punctuations.\n",
    "    pattern = re.compile(r'([^\\w\\s]|_)')\n",
    "    c_data = pattern.sub(' ',data)\n",
    "    return c_data"
   ]
  },
  {
   "cell_type": "code",
   "execution_count": 6,
   "metadata": {},
   "outputs": [],
   "source": [
    "def d_maker(data,d): #Adds words and their frequencies to the dictionary.\n",
    "    c_data = cleanser(data)\n",
    "    s_words = set(stopwords.words('english')) #set of stopwords that we have to exclude from our vocabulary.\n",
    "    s = c_data.split()\n",
    "    for w in s:\n",
    "        if w not in s_words:\n",
    "            d[w] = d.get(w,0)+1\n",
    "    return d"
   ]
  },
  {
   "cell_type": "code",
   "execution_count": 7,
   "metadata": {},
   "outputs": [],
   "source": [
    "def vocabulary(files,groups): # Returns dictionary with the words.\n",
    "    n = len(files)\n",
    "    d = {}\n",
    "    for i in range(n):\n",
    "#         if  i%500 ==0:  #uncomment to monitor progress. \n",
    "#             print(i,groups[i])\n",
    "        with open('20_newsgroups/'+groups[i]+'/'+files[i],'r') as file:\n",
    "            data= file.read()\n",
    "            d = d_maker(data,d)\n",
    "    return d"
   ]
  },
  {
   "cell_type": "code",
   "execution_count": 8,
   "metadata": {},
   "outputs": [],
   "source": [
    "vocab = vocabulary(x_train,y_train) #dictionary of words with their in Training documents.\n",
    "v = np.array(list(vocab.keys()))\n",
    "freq = np.array(list(vocab.values()))"
   ]
  },
  {
   "cell_type": "code",
   "execution_count": 9,
   "metadata": {},
   "outputs": [
    {
     "data": {
      "image/png": "[encoded data removed]",
      "text/plain": [
       "<Figure size 432x288 with 1 Axes>"
      ]
     },
     "metadata": {
      "needs_background": "light"
     },
     "output_type": "display_data"
    }
   ],
   "source": [
    "#Plotting Frequency vs No. of words graph.\n",
    "x,y = np.unique(freq,return_counts=True)\n",
    "plt.plot(x,y)\n",
    "plt.axis([1,10,0,20000])\n",
    "plt.xlabel('Frequency')\n",
    "plt.ylabel('No. of words')\n",
    "plt.title('Frequency vs No. of words in dictionary')\n",
    "plt.grid()\n",
    "plt.show()"
   ]
  },
  {
   "cell_type": "code",
   "execution_count": 10,
   "metadata": {
    "scrolled": true
   },
   "outputs": [
    {
     "data": {
      "text/plain": [
       "4905"
      ]
     },
     "execution_count": 10,
     "metadata": {},
     "output_type": "execute_result"
    }
   ],
   "source": [
    "features = v[freq>100]  #Taking words with frqeuency greater than 100 as features.\n",
    "len(features) #Size of our vocabulary."
   ]
  },
  {
   "cell_type": "code",
   "execution_count": 11,
   "metadata": {},
   "outputs": [],
   "source": [
    "def f(s,features,y): # Returns a list for each document with frequency of words and its class.\n",
    "    c_s = cleanser(s)\n",
    "    s_words = set(stopwords.words('english'))\n",
    "    row = [0]*len(features)\n",
    "    c_s = c_s.split()\n",
    "    for word in c_s:\n",
    "        if word not in s_words:\n",
    "            index = np.where(features==word)[0]\n",
    "            if len(index)==1:\n",
    "                row[index[0]] +=1\n",
    "    row.append(classes_dict[y])\n",
    "    return row"
   ]
  },
  {
   "cell_type": "code",
   "execution_count": 12,
   "metadata": {},
   "outputs": [],
   "source": [
    "def form_dataset(x,y,features):# Constructs a dataset with each row having frequency of words for a particular document.\n",
    "    #This might take some time.\n",
    "    data = []\n",
    "    n1 = len(x)\n",
    "    for i in range(n1):\n",
    "#         if i%500==0: #Uncomment to see progress.\n",
    "#             print(i,y[i])\n",
    "        with open('20_newsgroups/'+y[i]+'/'+x[i],'r') as file:\n",
    "            s = file.read()\n",
    "            data.append(f(s,features,y[i]))\n",
    "    data = np.array(data)\n",
    "    return data"
   ]
  },
  {
   "cell_type": "code",
   "execution_count": 13,
   "metadata": {},
   "outputs": [],
   "source": [
    "test_data = form_dataset(x_test,y_test,features)#Testing data \n",
    "train_data = form_dataset(x_train,y_train,features) #Training Data"
   ]
  },
  {
   "cell_type": "code",
   "execution_count": 14,
   "metadata": {},
   "outputs": [],
   "source": [
    "x_train_1 = train_data[:,:-1]\n",
    "y_train_1 = train_data[:,-1]\n",
    "x_test_1 = test_data[:,:-1]\n",
    "y_test_1 = test_data[:,-1]"
   ]
  },
  {
   "cell_type": "markdown",
   "metadata": {},
   "source": [
    "# Inbuilt Multinomial Naive Bayes."
   ]
  },
  {
   "cell_type": "code",
   "execution_count": 15,
   "metadata": {},
   "outputs": [
    {
     "name": "stdout",
     "output_type": "stream",
     "text": [
      "[[207   0   0   0   1   0   1   2   0   0   0   0   1   0   0   0   0   1\n",
      "    1  36]\n",
      " [  0 196   0   8  14   6  12   1   1   0   0   2   6   1   3   0   0   0\n",
      "    0   0]\n",
      " [  0  42  13 118  25  28  10   1   0   0   0   0  11   1   1   0   0   0\n",
      "    0   0]\n",
      " [  0   6   0 207  22   2   7   1   1   0   0   0   4   0   0   0   0   0\n",
      "    0   0]\n",
      " [  0   3   0   5 233   0   3   0   1   0   0   0   4   0   1   0   0   0\n",
      "    0   0]\n",
      " [  0  23   1   5   7 208   3   1   0   0   0   0   2   0   0   0   0   0\n",
      "    0   0]\n",
      " [  0   0   0   2   4   0 237   2   0   0   0   0   3   0   0   0   1   0\n",
      "    1   0]\n",
      " [  0   0   0   0   1   0   5 231   4   0   2   0   6   0   0   0   1   0\n",
      "    0   0]\n",
      " [  0   0   0   0   0   0   6   7 236   0   0   0   0   0   1   0   0   0\n",
      "    0   0]\n",
      " [  0   0   0   0   0   0   3   1   2 234  10   0   0   0   0   0   0   0\n",
      "    0   0]\n",
      " [  0   0   0   0   1   0   2   3   4  17 220   0   0   1   1   0   0   0\n",
      "    1   0]\n",
      " [  0   2   1   0   0   0   0   0   0   0   0 242   5   0   0   0   0   0\n",
      "    0   0]\n",
      " [  0   2   0   1   4   0   6   2   0   0   0   1 233   0   1   0   0   0\n",
      "    0   0]\n",
      " [  0   9   0   0   3   0   2   5   3   0   0   0  10 216   1   0   0   0\n",
      "    1   0]\n",
      " [  1   6   0   1   1   0   2   1   1   0   0   0   7   1 226   0   1   0\n",
      "    2   0]\n",
      " [  0   0   0   0   0   0   0   0   0   0   0   0   0   0   0 250   0   0\n",
      "    0   0]\n",
      " [  0   0   1   0   0   0   0   0   2   1   0   2   0   1   0   0 234   0\n",
      "    8   1]\n",
      " [  1   0   0   0   2   0   7   4   1   0   0   1   1   0   1   0   4 204\n",
      "   22   2]\n",
      " [  0   0   0   0   0   0   0   1   0   0   0   2   0   0   2   0  28  14\n",
      "  183  20]\n",
      " [ 38   1   0   0   0   1   4   0   0   0   1   0   1   2   1   8  17   0\n",
      "   23 153]]\n",
      "--------------------------------------------------------------\n",
      "              precision    recall  f1-score   support\n",
      "\n",
      "           0       0.84      0.83      0.83       250\n",
      "           1       0.68      0.78      0.73       250\n",
      "           2       0.81      0.05      0.10       250\n",
      "           3       0.60      0.83      0.69       250\n",
      "           4       0.73      0.93      0.82       250\n",
      "           5       0.85      0.83      0.84       250\n",
      "           6       0.76      0.95      0.85       250\n",
      "           7       0.88      0.92      0.90       250\n",
      "           8       0.92      0.94      0.93       250\n",
      "           9       0.93      0.94      0.93       250\n",
      "          10       0.94      0.88      0.91       250\n",
      "          11       0.97      0.97      0.97       250\n",
      "          12       0.79      0.93      0.86       250\n",
      "          13       0.97      0.86      0.91       250\n",
      "          14       0.95      0.90      0.92       250\n",
      "          15       0.97      1.00      0.98       250\n",
      "          16       0.82      0.94      0.87       250\n",
      "          17       0.93      0.82      0.87       250\n",
      "          18       0.76      0.73      0.74       250\n",
      "          19       0.72      0.61      0.66       250\n",
      "\n",
      "    accuracy                           0.83      5000\n",
      "   macro avg       0.84      0.83      0.82      5000\n",
      "weighted avg       0.84      0.83      0.82      5000\n",
      "\n"
     ]
    }
   ],
   "source": [
    "#Using sklearn's Multinomial Naive bayes\n",
    "clf = MultinomialNB()\n",
    "clf.fit(x_train_1,y_train_1)\n",
    "y_pred = clf.predict(x_test_1)\n",
    "print(confusion_matrix(y_test_1,y_pred))\n",
    "print('--------------------------------------------------------------')\n",
    "print(classification_report(y_test_1,y_pred))"
   ]
  },
  {
   "cell_type": "code",
   "execution_count": 16,
   "metadata": {},
   "outputs": [
    {
     "data": {
      "text/plain": [
       "0.8326"
      ]
     },
     "execution_count": 16,
     "metadata": {},
     "output_type": "execute_result"
    }
   ],
   "source": [
    "Ib_test_score = clf.score(x_test_1,y_test_1)\n",
    "Ib_test_score"
   ]
  },
  {
   "cell_type": "markdown",
   "metadata": {},
   "source": [
    "# Implementation of Multinomial Naive Bayes"
   ]
  },
  {
   "cell_type": "code",
   "execution_count": 17,
   "metadata": {},
   "outputs": [],
   "source": [
    "class NBMultinomial:\n",
    "    def __init__(self):\n",
    "        self.result = {}\n",
    "    \n",
    "    def fit(self,x_train,y_train): #Stores the total frequencies of words for every class in a dictionary.\n",
    "        self.result['Total_data'] = y_train.shape[0]\n",
    "        num_features = x_train.shape[1]\n",
    "        class_values = set(y_train)\n",
    "        for current_class in class_values:\n",
    "            self.result[current_class] = {}\n",
    "            x_curr = x_train[y_train==current_class]\n",
    "            s = 0\n",
    "            for i in range(num_features):\n",
    "                wf = x_curr[:,i].sum()\n",
    "                self.result[current_class][i] = wf\n",
    "                s+=wf\n",
    "            self.result[current_class]['total_words'] = s\n",
    "            self.result[current_class]['total_docs'] = x_curr.shape[0]\n",
    "            \n",
    "            \n",
    "    def __Probability(self,x,current_class):#Calculates the probability for the given class.\n",
    "        n = x.shape[0]\n",
    "        p = log(self.result[current_class]['total_docs']/self.result['Total_data'])\n",
    "        for i in range(n):\n",
    "            if x[i]!=0:\n",
    "                num = self.result[current_class][i]+1\n",
    "                denom = self.result[current_class]['total_words']+n\n",
    "                p += x[i]*(log(num)-log(denom))\n",
    "        return p\n",
    "    \n",
    "    \n",
    "    def __predict_single_P(self,x):#returns the best class for a single test point.\n",
    "        classes = self.result.keys()\n",
    "        best_p = -100\n",
    "        best_class = -1\n",
    "        first_run = True\n",
    "        for current_class in classes:\n",
    "            if current_class  =='Total_data':\n",
    "                continue\n",
    "            p_current_class = self.__Probability(x,current_class)\n",
    "            if (first_run) | (p_current_class>best_p):\n",
    "                best_p = p_current_class\n",
    "                best_class = current_class\n",
    "                first_run = False\n",
    "        return best_class\n",
    "    \n",
    "    \n",
    "    def predict(self,x_test):\n",
    "        #This might take some time.\n",
    "        y_pred = []\n",
    "        i=0\n",
    "        for x in x_test:\n",
    "#             if i%100==0: #Uncomment to see the progress.\n",
    "#                 print(i)\n",
    "            x_class  =self.__predict_single_P(x)\n",
    "            y_pred.append(x_class)\n",
    "            i+=1\n",
    "        return y_pred\n",
    "    def score(self,y_pred,y_true):\n",
    "        # returns the mean accuracy\n",
    "        count = 0\n",
    "        n = len(y_pred)\n",
    "        for i in range(n):\n",
    "            if y_pred[i] == y_true[i]:\n",
    "                count+=1\n",
    "        return count/n"
   ]
  },
  {
   "cell_type": "code",
   "execution_count": 18,
   "metadata": {},
   "outputs": [
    {
     "name": "stdout",
     "output_type": "stream",
     "text": [
      "[[207   0   0   0   1   0   1   2   0   0   0   0   1   0   0   0   0   1\n",
      "    1  36]\n",
      " [  0 196   0   8  14   6  12   1   1   0   0   2   6   1   3   0   0   0\n",
      "    0   0]\n",
      " [  0  42  13 118  25  28  10   1   0   0   0   0  11   1   1   0   0   0\n",
      "    0   0]\n",
      " [  0   6   0 207  22   2   7   1   1   0   0   0   4   0   0   0   0   0\n",
      "    0   0]\n",
      " [  0   3   0   5 233   0   3   0   1   0   0   0   4   0   1   0   0   0\n",
      "    0   0]\n",
      " [  0  23   1   5   7 208   3   1   0   0   0   0   2   0   0   0   0   0\n",
      "    0   0]\n",
      " [  0   0   0   2   4   0 237   2   0   0   0   0   3   0   0   0   1   0\n",
      "    1   0]\n",
      " [  0   0   0   0   1   0   5 231   4   0   2   0   6   0   0   0   1   0\n",
      "    0   0]\n",
      " [  0   0   0   0   0   0   6   7 236   0   0   0   0   0   1   0   0   0\n",
      "    0   0]\n",
      " [  0   0   0   0   0   0   3   1   2 234  10   0   0   0   0   0   0   0\n",
      "    0   0]\n",
      " [  0   0   0   0   1   0   2   3   4  17 220   0   0   1   1   0   0   0\n",
      "    1   0]\n",
      " [  0   2   1   0   0   0   0   0   0   0   0 242   5   0   0   0   0   0\n",
      "    0   0]\n",
      " [  0   2   0   1   4   0   6   2   0   0   0   1 233   0   1   0   0   0\n",
      "    0   0]\n",
      " [  0   9   0   0   3   0   2   5   3   0   0   0  10 216   1   0   0   0\n",
      "    1   0]\n",
      " [  1   6   0   1   1   0   2   1   1   0   0   0   7   1 226   0   1   0\n",
      "    2   0]\n",
      " [  0   0   0   0   0   0   0   0   0   0   0   0   0   0   0 250   0   0\n",
      "    0   0]\n",
      " [  0   0   1   0   0   0   0   0   2   1   0   2   0   1   0   0 234   0\n",
      "    8   1]\n",
      " [  1   0   0   0   2   0   7   4   1   0   0   1   1   0   1   0   4 204\n",
      "   22   2]\n",
      " [  0   0   0   0   0   0   0   1   0   0   0   2   0   0   2   0  28  14\n",
      "  183  20]\n",
      " [ 38   1   0   0   0   1   4   0   0   0   1   0   1   2   1   8  17   0\n",
      "   23 153]]\n",
      "------------------------------------------------\n",
      "              precision    recall  f1-score   support\n",
      "\n",
      "           0       0.84      0.83      0.83       250\n",
      "           1       0.68      0.78      0.73       250\n",
      "           2       0.81      0.05      0.10       250\n",
      "           3       0.60      0.83      0.69       250\n",
      "           4       0.73      0.93      0.82       250\n",
      "           5       0.85      0.83      0.84       250\n",
      "           6       0.76      0.95      0.85       250\n",
      "           7       0.88      0.92      0.90       250\n",
      "           8       0.92      0.94      0.93       250\n",
      "           9       0.93      0.94      0.93       250\n",
      "          10       0.94      0.88      0.91       250\n",
      "          11       0.97      0.97      0.97       250\n",
      "          12       0.79      0.93      0.86       250\n",
      "          13       0.97      0.86      0.91       250\n",
      "          14       0.95      0.90      0.92       250\n",
      "          15       0.97      1.00      0.98       250\n",
      "          16       0.82      0.94      0.87       250\n",
      "          17       0.93      0.82      0.87       250\n",
      "          18       0.76      0.73      0.74       250\n",
      "          19       0.72      0.61      0.66       250\n",
      "\n",
      "    accuracy                           0.83      5000\n",
      "   macro avg       0.84      0.83      0.82      5000\n",
      "weighted avg       0.84      0.83      0.82      5000\n",
      "\n"
     ]
    }
   ],
   "source": [
    "clf2 = NBMultinomial()\n",
    "clf2.fit(x_train_1,y_train_1)\n",
    "y_pred_a = clf2.predict(x_test_1)\n",
    "print(confusion_matrix(y_test_1,y_pred_a))\n",
    "print('------------------------------------------------')\n",
    "print(classification_report(y_test_1,y_pred_a))\n",
    "A_test_score = clf2.score(y_pred_a,y_test_1)"
   ]
  },
  {
   "cell_type": "markdown",
   "metadata": {},
   "source": [
    "# Comparison."
   ]
  },
  {
   "cell_type": "code",
   "execution_count": 19,
   "metadata": {},
   "outputs": [
    {
     "name": "stdout",
     "output_type": "stream",
     "text": [
      "Score of our algorithm on test data: 0.8326\n",
      "Score of sklearn's MultinomialNB on the same data : 0.8326\n"
     ]
    }
   ],
   "source": [
    "print(\"Score of our algorithm on test data:\",A_test_score)\n",
    "print(\"Score of sklearn's MultinomialNB on the same data :\",Ib_test_score)"
   ]
  }
 ],
 "metadata": {
  "kernelspec": {
   "display_name": "Python 3 (ipykernel)",
   "language": "python",
   "name": "python3"
  },
  "language_info": {
   "codemirror_mode": {
    "name": "ipython",
    "version": 3
   },
   "file_extension": ".py",
   "mimetype": "text/x-python",
   "name": "python",
   "nbconvert_exporter": "python",
   "pygments_lexer": "ipython3",
   "version": "3.7.10"
  }
 },
 "nbformat": 4,
 "nbformat_minor": 4
}
